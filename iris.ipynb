{
 "cells": [
  {
   "cell_type": "code",
   "execution_count": 1,
   "metadata": {},
   "outputs": [
    {
     "name": "stdout",
     "output_type": "stream",
     "text": [
      "     sepal_length  sepal_width  petal_length  petal_width    species\n",
      "0             5.1          3.5           1.4          0.2     setosa\n",
      "1             4.9          3.0           1.4          0.2     setosa\n",
      "2             4.7          3.2           1.3          0.2     setosa\n",
      "3             4.6          3.1           1.5          0.2     setosa\n",
      "4             5.0          3.6           1.4          0.2     setosa\n",
      "5             5.4          3.9           1.7          0.4     setosa\n",
      "6             4.6          3.4           1.4          0.3     setosa\n",
      "7             5.0          3.4           1.5          0.2     setosa\n",
      "8             4.4          2.9           1.4          0.2     setosa\n",
      "9             4.9          3.1           1.5          0.1     setosa\n",
      "10            5.4          3.7           1.5          0.2     setosa\n",
      "11            4.8          3.4           1.6          0.2     setosa\n",
      "12            4.8          3.0           1.4          0.1     setosa\n",
      "13            4.3          3.0           1.1          0.1     setosa\n",
      "14            5.8          4.0           1.2          0.2     setosa\n",
      "15            5.7          4.4           1.5          0.4     setosa\n",
      "16            5.4          3.9           1.3          0.4     setosa\n",
      "17            5.1          3.5           1.4          0.3     setosa\n",
      "18            5.7          3.8           1.7          0.3     setosa\n",
      "19            5.1          3.8           1.5          0.3     setosa\n",
      "20            5.4          3.4           1.7          0.2     setosa\n",
      "21            5.1          3.7           1.5          0.4     setosa\n",
      "22            4.6          3.6           1.0          0.2     setosa\n",
      "23            5.1          3.3           1.7          0.5     setosa\n",
      "24            4.8          3.4           1.9          0.2     setosa\n",
      "25            5.0          3.0           1.6          0.2     setosa\n",
      "26            5.0          3.4           1.6          0.4     setosa\n",
      "27            5.2          3.5           1.5          0.2     setosa\n",
      "28            5.2          3.4           1.4          0.2     setosa\n",
      "29            4.7          3.2           1.6          0.2     setosa\n",
      "..            ...          ...           ...          ...        ...\n",
      "120           6.9          3.2           5.7          2.3  virginica\n",
      "121           5.6          2.8           4.9          2.0  virginica\n",
      "122           7.7          2.8           6.7          2.0  virginica\n",
      "123           6.3          2.7           4.9          1.8  virginica\n",
      "124           6.7          3.3           5.7          2.1  virginica\n",
      "125           7.2          3.2           6.0          1.8  virginica\n",
      "126           6.2          2.8           4.8          1.8  virginica\n",
      "127           6.1          3.0           4.9          1.8  virginica\n",
      "128           6.4          2.8           5.6          2.1  virginica\n",
      "129           7.2          3.0           5.8          1.6  virginica\n",
      "130           7.4          2.8           6.1          1.9  virginica\n",
      "131           7.9          3.8           6.4          2.0  virginica\n",
      "132           6.4          2.8           5.6          2.2  virginica\n",
      "133           6.3          2.8           5.1          1.5  virginica\n",
      "134           6.1          2.6           5.6          1.4  virginica\n",
      "135           7.7          3.0           6.1          2.3  virginica\n",
      "136           6.3          3.4           5.6          2.4  virginica\n",
      "137           6.4          3.1           5.5          1.8  virginica\n",
      "138           6.0          3.0           4.8          1.8  virginica\n",
      "139           6.9          3.1           5.4          2.1  virginica\n",
      "140           6.7          3.1           5.6          2.4  virginica\n",
      "141           6.9          3.1           5.1          2.3  virginica\n",
      "142           5.8          2.7           5.1          1.9  virginica\n",
      "143           6.8          3.2           5.9          2.3  virginica\n",
      "144           6.7          3.3           5.7          2.5  virginica\n",
      "145           6.7          3.0           5.2          2.3  virginica\n",
      "146           6.3          2.5           5.0          1.9  virginica\n",
      "147           6.5          3.0           5.2          2.0  virginica\n",
      "148           6.2          3.4           5.4          2.3  virginica\n",
      "149           5.9          3.0           5.1          1.8  virginica\n",
      "\n",
      "[150 rows x 5 columns]\n"
     ]
    }
   ],
   "source": [
    "import numpy as np # linear algebra\n",
    "import pandas as pd # data processing, CSV file I/O (e.g. pd.read_csv)\n",
    "import matplotlib.pyplot as plt\n",
    "from pandas.tools.plotting import scatter_matrix\n",
    "from sklearn.metrics import accuracy_score\n",
    "from sklearn import model_selection\n",
    "from sklearn.model_selection import train_test_split\n",
    "from sklearn.linear_model import LogisticRegression\n",
    "from sklearn.tree import DecisionTreeClassifier\n",
    "from sklearn.neighbors import KNeighborsClassifier\n",
    "from sklearn.discriminant_analysis import LinearDiscriminantAnalysis\n",
    "from sklearn.naive_bayes import GaussianNB\n",
    "from sklearn.svm import SVC\n",
    "from sklearn.metrics import classification_report\n",
    "from sklearn.metrics import confusion_matrix\n",
    "\n",
    "# want to see size of dataset\n",
    "\n",
    "columns = ['sepal_len', 'sepal_width', 'petal_len', 'petal_width', 'class']\n",
    "data = pd.read_csv('./input/iris.csv')\n",
    "\n",
    "print(data)"
   ]
  },
  {
   "cell_type": "code",
   "execution_count": 2,
   "metadata": {
    "collapsed": true
   },
   "outputs": [],
   "source": [
    "seed = 7\n",
    "\n",
    "# create test/training data\n",
    "\n",
    "x = data.values[:,0:4]\n",
    "y = data.values[:,4]\n",
    "\n",
    "\n",
    "validation_size = 0.20\n",
    "\n",
    "x_train, x_test, y_train, y_test = train_test_split(x, y, test_size=validation_size, random_state=seed)"
   ]
  },
  {
   "cell_type": "code",
   "execution_count": 3,
   "metadata": {},
   "outputs": [
    {
     "name": "stdout",
     "output_type": "stream",
     "text": [
      "CRT: 0.975000 (0.038188)\n",
      "LR: 0.966667 (0.040825)\n",
      "LDA: 0.975000 (0.038188)\n",
      "KNN: 0.983333 (0.033333)\n",
      "NB: 0.975000 (0.053359)\n",
      "SVB: 0.991667 (0.025000)\n"
     ]
    }
   ],
   "source": [
    "#Create list of models to try a few and test accuracy\n",
    "\n",
    "models = []\n",
    "models.append(('CRT', DecisionTreeClassifier()))\n",
    "models.append(('LR', LogisticRegression()))\n",
    "models.append(('LDA', LinearDiscriminantAnalysis()))\n",
    "models.append(('KNN', KNeighborsClassifier()))\n",
    "models.append(('NB', GaussianNB()))\n",
    "models.append(('SVB', SVC()))\n",
    "\n",
    "#Results \n",
    "names = []\n",
    "score = []\n",
    "\n",
    "scoring = 'accuracy'\n",
    "\n",
    "# Using kfold to test accuracy \n",
    "for name, model in models:\n",
    "    kfold = model_selection.KFold(n_splits=10, random_state=seed)\n",
    "    cv_res = model_selection.cross_val_score(model, x_train, y_train, cv=kfold, scoring=scoring)\n",
    "    score.append(cv_res)\n",
    "    names.append(name)\n",
    "    print(\"%s: %f (%f)\" % (name, cv_res.mean(), cv_res.std()))"
   ]
  },
  {
   "cell_type": "code",
   "execution_count": 4,
   "metadata": {},
   "outputs": [
    {
     "data": {
      "image/png": "[encoded data removed]",
      "text/plain": [
       "<matplotlib.figure.Figure at 0x7fd540ecb198>"
      ]
     },
     "metadata": {},
     "output_type": "display_data"
    }
   ],
   "source": [
    "# compare graphically the distribution of accuracy measures\n",
    "fig = plt.figure()\n",
    "fig.suptitle('Compare algorithms')\n",
    "ax = fig.add_subplot(111)\n",
    "plt.boxplot(score)\n",
    "ax.set_xticklabels(names)\n",
    "plt.show()"
   ]
  },
  {
   "cell_type": "code",
   "execution_count": 5,
   "metadata": {},
   "outputs": [
    {
     "name": "stdout",
     "output_type": "stream",
     "text": [
      "0.9\n",
      "[[ 7  0  0]\n",
      " [ 0 11  1]\n",
      " [ 0  2  9]]\n",
      "             precision    recall  f1-score   support\n",
      "\n",
      "     setosa       1.00      1.00      1.00         7\n",
      " versicolor       0.85      0.92      0.88        12\n",
      "  virginica       0.90      0.82      0.86        11\n",
      "\n",
      "avg / total       0.90      0.90      0.90        30\n",
      "\n"
     ]
    }
   ],
   "source": [
    "accuracy = []\n",
    "names = []\n",
    "\n",
    "\n",
    "# Knn results for our data\n",
    "knn = KNeighborsClassifier()\n",
    "knn.fit(x_train, y_train)\n",
    "predicts = knn.predict(x_test)\n",
    "print(accuracy_score(y_test, predicts))\n",
    "accuracy.append(accuracy_score(y_test, predicts))\n",
    "names.append(\"KNN\")\n",
    "print(confusion_matrix(y_test, predicts))\n",
    "print(classification_report(y_test, predicts))"
   ]
  },
  {
   "cell_type": "code",
   "execution_count": 6,
   "metadata": {},
   "outputs": [
    {
     "name": "stdout",
     "output_type": "stream",
     "text": [
      "0.933333333333\n",
      "[[ 7  0  0]\n",
      " [ 0 10  2]\n",
      " [ 0  0 11]]\n",
      "             precision    recall  f1-score   support\n",
      "\n",
      "     setosa       1.00      1.00      1.00         7\n",
      " versicolor       1.00      0.83      0.91        12\n",
      "  virginica       0.85      1.00      0.92        11\n",
      "\n",
      "avg / total       0.94      0.93      0.93        30\n",
      "\n"
     ]
    }
   ],
   "source": [
    "# support vector machines\n",
    "svc = SVC()\n",
    "svc.fit(x_train, y_train)\n",
    "predicts = svc.predict(x_test)\n",
    "accuracy.append(accuracy_score(y_test, predicts))\n",
    "names.append(\"SVC\")\n",
    "print(accuracy_score(y_test, predicts))\n",
    "print(confusion_matrix(y_test, predicts))\n",
    "print(classification_report(y_test, predicts))"
   ]
  },
  {
   "cell_type": "code",
   "execution_count": 7,
   "metadata": {},
   "outputs": [
    {
     "name": "stdout",
     "output_type": "stream",
     "text": [
      "0.866666666667\n",
      "[[ 7  0  0]\n",
      " [ 0 11  1]\n",
      " [ 0  3  8]]\n",
      "             precision    recall  f1-score   support\n",
      "\n",
      "     setosa       1.00      1.00      1.00         7\n",
      " versicolor       0.79      0.92      0.85        12\n",
      "  virginica       0.89      0.73      0.80        11\n",
      "\n",
      "avg / total       0.87      0.87      0.87        30\n",
      "\n"
     ]
    }
   ],
   "source": [
    "# 90% for Decision Trees\n",
    "crt = DecisionTreeClassifier()\n",
    "crt.fit(x_train, y_train)\n",
    "predicts = crt.predict(x_test)\n",
    "accuracy.append(accuracy_score(y_test, predicts))\n",
    "names.append(\"CRT\")\n",
    "print(accuracy_score(y_test, predicts))\n",
    "print(confusion_matrix(y_test, predicts))\n",
    "print(classification_report(y_test, predicts))"
   ]
  },
  {
   "cell_type": "code",
   "execution_count": 8,
   "metadata": {},
   "outputs": [
    {
     "name": "stdout",
     "output_type": "stream",
     "text": [
      "0.8\n",
      "[[ 7  0  0]\n",
      " [ 0  7  5]\n",
      " [ 0  1 10]]\n",
      "             precision    recall  f1-score   support\n",
      "\n",
      "     setosa       1.00      1.00      1.00         7\n",
      " versicolor       0.88      0.58      0.70        12\n",
      "  virginica       0.67      0.91      0.77        11\n",
      "\n",
      "avg / total       0.83      0.80      0.80        30\n",
      "\n"
     ]
    }
   ],
   "source": [
    "# Ouch this one is 80%\n",
    "LR = LogisticRegression()\n",
    "LR.fit(x_train, y_train)\n",
    "predicts = LR.predict(x_test)\n",
    "print(accuracy_score(y_test, predicts))\n",
    "accuracy.append(accuracy_score(y_test, predicts))\n",
    "names.append(\"LR\")\n",
    "print(confusion_matrix(y_test, predicts))\n",
    "print(classification_report(y_test, predicts))"
   ]
  },
  {
   "cell_type": "code",
   "execution_count": 9,
   "metadata": {},
   "outputs": [
    {
     "name": "stdout",
     "output_type": "stream",
     "text": [
      "0.966666666667\n",
      "[[ 7  0  0]\n",
      " [ 0 11  1]\n",
      " [ 0  0 11]]\n",
      "             precision    recall  f1-score   support\n",
      "\n",
      "     setosa       1.00      1.00      1.00         7\n",
      " versicolor       1.00      0.92      0.96        12\n",
      "  virginica       0.92      1.00      0.96        11\n",
      "\n",
      "avg / total       0.97      0.97      0.97        30\n",
      "\n"
     ]
    }
   ],
   "source": [
    "# 97% accuracy, nice\n",
    "lda = LinearDiscriminantAnalysis()\n",
    "lda.fit(x_train, y_train)\n",
    "predicts = lda.predict(x_test)\n",
    "accuracy.append(accuracy_score(y_test, predicts))\n",
    "names.append(\"LDA\")\n",
    "print(accuracy_score(y_test, predicts))\n",
    "print(confusion_matrix(y_test, predicts))\n",
    "print(classification_report(y_test, predicts))"
   ]
  },
  {
   "cell_type": "code",
   "execution_count": 10,
   "metadata": {},
   "outputs": [
    {
     "name": "stdout",
     "output_type": "stream",
     "text": [
      "0.833333333333\n",
      "[[7 0 0]\n",
      " [0 9 3]\n",
      " [0 2 9]]\n",
      "             precision    recall  f1-score   support\n",
      "\n",
      "     setosa       1.00      1.00      1.00         7\n",
      " versicolor       0.82      0.75      0.78        12\n",
      "  virginica       0.75      0.82      0.78        11\n",
      "\n",
      "avg / total       0.84      0.83      0.83        30\n",
      "\n"
     ]
    }
   ],
   "source": [
    "# Down again \n",
    "nb = GaussianNB()\n",
    "nb.fit(x_train, y_train)\n",
    "predicts = nb.predict(x_test)\n",
    "accuracy.append(accuracy_score(y_test, predicts))\n",
    "names.append(\"NB\")\n",
    "print(accuracy_score(y_test, predicts))\n",
    "print(confusion_matrix(y_test, predicts))\n",
    "print(classification_report(y_test, predicts))"
   ]
  },
  {
   "cell_type": "code",
   "execution_count": 11,
   "metadata": {},
   "outputs": [
    {
     "data": {
      "image/png": "[encoded data removed]",
      "text/plain": [
       "<matplotlib.figure.Figure at 0x7fd50e355b38>"
      ]
     },
     "metadata": {},
     "output_type": "display_data"
    }
   ],
   "source": [
    "fig = plt.figure()\n",
    "\n",
    "plt.bar(np.arange(len(names)), accuracy, align='center', alpha=0.5)\n",
    "\n",
    "plt.xticks(np.arange(len(names)), names)\n",
    "plt.ylabel('Accuracy')\n",
    "plt.title('Accuracy Graph for Prediction')\n",
    "plt.show()"
   ]
  },
  {
   "cell_type": "code",
   "execution_count": null,
   "metadata": {
    "collapsed": true
   },
   "outputs": [],
   "source": []
  }
 ],
 "metadata": {
  "kernelspec": {
   "display_name": "Python 3",
   "language": "python",
   "name": "python3"
  },
  "language_info": {
   "codemirror_mode": {
    "name": "ipython",
    "version": 3
   },
   "file_extension": ".py",
   "mimetype": "text/x-python",
   "name": "python",
   "nbconvert_exporter": "python",
   "pygments_lexer": "ipython3",
   "version": "3.5.2"
  }
 },
 "nbformat": 4,
 "nbformat_minor": 2
}
