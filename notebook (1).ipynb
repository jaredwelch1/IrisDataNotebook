{
  "cells": [
    {
      "cell_type": "markdown",
      "metadata": {
        "_cell_guid": "365871d2-6126-55fb-83a8-86c423f9b1dc",
        "_uuid": "8795bf0c81972a48fcc2967a87d225db47cb5b3f"
      },
      "source": [
        ""
      ],
      "outputs": [],
      "execution_count": null
    },
    {
      "cell_type": "code",
      "execution_count": 2,
      "metadata": {
        "_cell_guid": "eb0cd3d7-1a63-1a8c-9b45-898e22102924",
        "_uuid": "ddd38bf38e5a6234473c8d45eab99643950466ba",
        "_execution_state": "idle"
      },
      "outputs": [],
      "source": [
        "import numpy as np # linear algebra\n",
        "import pandas as pd # data processing, CSV file I/O (e.g. pd.read_csv)\n",
        "from pandas.tools.plotting import scatter_matrix\n",
        "from sklearn import model_selection\n",
        "from sklearn.model_selection import train_test_split\n",
        "from sklearn.linear_model import LogisticRegression\n",
        "from sklearn.tree import DecisionTreeClassifier\n",
        "from sklearn.neighbors import KNeighborsClassifier\n",
        "from sklearn.discriminant_analysis import LinearDiscriminantAnalysis\n",
        "from sklearn.naive_bayes import GaussianNB\n",
        "from sklearn.svm import SVC\n",
        "\n",
        "# want to see size of dataset\n",
        "\n",
        "columns = ['Index','sepal_len', 'sepal_width', 'petal_len', 'petal_width', 'class']\n",
        "data = pd.read_csv('../input/Iris.csv', names=columns)\n",
        "\n",
        "# first row was labels instead of values so remove it here\n",
        "data = data[1:]\n",
        "\n",
        "# print the count of each class for the dataset\n",
        "#print(data.groupby('class').size())"
      ]
    },
    {
      "cell_type": "code",
      "execution_count": null,
      "metadata": {
        "_cell_guid": "9226e844-a5d6-2e03-5d00-82291ba4ecd5",
        "_uuid": "8d1b70100655c2909f618d50df20b35126bd3492",
        "_execution_state": "busy"
      },
      "outputs": [],
      "source": "# print the count of each class for the dataset\nprint(data.groupby('class').size())\n\nprint(data[:,:])"
    },
    {
      "cell_type": "code",
      "execution_count": 9,
      "metadata": {
        "_cell_guid": "d48919a9-d236-14c5-1db4-147e1c6d0ee8",
        "_uuid": "37de355ac6f1ef8e4008add7862520952b9ee424",
        "_execution_state": "idle"
      },
      "outputs": [
        {
          "output_type": "stream",
          "name": "stdout",
          "text": "(120, 6)\n    Index sepal_len sepal_width petal_len petal_width            class\n26     26       5.0         3.0       1.6         0.2      Iris-setosa\n122   122       5.6         2.8       4.9         2.0   Iris-virginica\n115   115       5.8         2.8       5.1         2.4   Iris-virginica\n75     75       6.4         2.9       4.3         1.3  Iris-versicolor\n76     76       6.6         3.0       4.4         1.4  Iris-versicolor\n143   143       5.8         2.7       5.1         1.9   Iris-virginica\n45     45       5.1         3.8       1.9         0.4      Iris-setosa\n125   125       6.7         3.3       5.7         2.1   Iris-virginica\n95     95       5.6         2.7       4.2         1.3  Iris-versicolor\n24     24       5.1         3.3       1.7         0.5      Iris-setosa\n44     44       5.0         3.5       1.6         0.6      Iris-setosa\n20     20       5.1         3.8       1.5         0.3      Iris-setosa\n11     11       5.4         3.7       1.5         0.2      Iris-setosa\n72     72       6.1         2.8       4.0         1.3  Iris-versicolor\n103   103       7.1         3.0       5.9         2.1   Iris-virginica\n149   149       6.2         3.4       5.4         2.3   Iris-virginica\n86     86       6.0         3.4       4.5         1.6  Iris-versicolor\n29     29       5.2         3.4       1.4         0.2      Iris-setosa\n65     65       5.6         2.9       3.6         1.3  Iris-versicolor\n142   142       6.9         3.1       5.1         2.3   Iris-virginica\n8       8       5.0         3.4       1.5         0.2      Iris-setosa\n19     19       5.7         3.8       1.7         0.3      Iris-setosa\n51     51       7.0         3.2       4.7         1.4  Iris-versicolor\n139   139       6.0         3.0       4.8         1.8   Iris-virginica\n31     31       4.8         3.1       1.6         0.2      Iris-setosa\n68     68       5.8         2.7       4.1         1.0  Iris-versicolor\n73     73       6.3         2.5       4.9         1.5  Iris-versicolor\n27     27       5.0         3.4       1.6         0.4      Iris-setosa\n2       2       4.9         3.0       1.4         0.2      Iris-setosa\n67     67       5.6         3.0       4.5         1.5  Iris-versicolor\n"
        }
      ],
      "source": "seed = 7\n\n# create test/training data\n\nx = data[]\n\nx_train, x_test, y_train, y_test = train_test_split(data, test_size= 0.2)\nprint(train.shape)\nprint(test)\n"
    },
    {
      "cell_type": "code",
      "execution_count": null,
      "metadata": {
        "_cell_guid": "14bc878f-c1fe-8e30-1d82-e307d814b133",
        "_uuid": "2e47426c83e2f56a2e7f31eb54cb836bab03a4d3",
        "_execution_state": "idle"
      },
      "outputs": [
        {
          "output_type": "error",
          "status": "error",
          "traceback": [
            "\u001b[0;31m---------------------------------------------------------------------------\u001b[0m",
            "\u001b[0;31mNameError\u001b[0m                                 Traceback (most recent call last)",
            "\u001b[0;32m<ipython-input-5-1e8df42436f0>\u001b[0m in \u001b[0;36m<module>\u001b[0;34m()\u001b[0m\n\u001b[1;32m     37\u001b[0m     \u001b[0mkfold\u001b[0m \u001b[0;34m=\u001b[0m \u001b[0mmodel_selection\u001b[0m\u001b[0;34m.\u001b[0m\u001b[0mKFold\u001b[0m\u001b[0;34m(\u001b[0m\u001b[0mn_splits\u001b[0m\u001b[0;34m=\u001b[0m\u001b[0;36m10\u001b[0m\u001b[0;34m,\u001b[0m \u001b[0mrandom_state\u001b[0m\u001b[0;34m=\u001b[0m\u001b[0mseed\u001b[0m\u001b[0;34m)\u001b[0m\u001b[0;34m\u001b[0m\u001b[0m\n\u001b[1;32m     38\u001b[0m \u001b[0;34m\u001b[0m\u001b[0m\n\u001b[0;32m---> 39\u001b[0;31m     \u001b[0mcv_res\u001b[0m \u001b[0;34m=\u001b[0m \u001b[0mmodel_selection\u001b[0m\u001b[0;34m.\u001b[0m\u001b[0mcross_val_score\u001b[0m\u001b[0;34m(\u001b[0m\u001b[0mmodel\u001b[0m\u001b[0;34m,\u001b[0m \u001b[0mx_tr\u001b[0m\u001b[0;34m,\u001b[0m \u001b[0my_tr\u001b[0m\u001b[0;34m,\u001b[0m \u001b[0mcv\u001b[0m\u001b[0;34m=\u001b[0m\u001b[0mkfold\u001b[0m\u001b[0;34m,\u001b[0m \u001b[0mscoring\u001b[0m\u001b[0;34m=\u001b[0m\u001b[0mscoring\u001b[0m\u001b[0;34m)\u001b[0m\u001b[0;34m\u001b[0m\u001b[0m\n\u001b[0m\u001b[1;32m     40\u001b[0m \u001b[0;34m\u001b[0m\u001b[0m\n\u001b[1;32m     41\u001b[0m     \u001b[0mprint\u001b[0m\u001b[0;34m(\u001b[0m\u001b[0;34m\"%s: %f (%f)\"\u001b[0m \u001b[0;34m%\u001b[0m \u001b[0;34m(\u001b[0m\u001b[0mname\u001b[0m\u001b[0;34m,\u001b[0m \u001b[0mcv_results\u001b[0m\u001b[0;34m.\u001b[0m\u001b[0mmean\u001b[0m\u001b[0;34m(\u001b[0m\u001b[0;34m)\u001b[0m\u001b[0;34m,\u001b[0m \u001b[0mcv_results\u001b[0m\u001b[0;34m.\u001b[0m\u001b[0mstd\u001b[0m\u001b[0;34m(\u001b[0m\u001b[0;34m)\u001b[0m\u001b[0;34m)\u001b[0m\u001b[0;34m)\u001b[0m\u001b[0;34m\u001b[0m\u001b[0m\n",
            "\u001b[0;31mNameError\u001b[0m: name 'x_tr' is not defined"
          ],
          "ename": "NameError",
          "evalue": "name 'x_tr' is not defined",
          "engine_info": {
            "engine_uuid": "9c2f153c-c4b6-49ad-a956-125dcf81b956",
            "engine_id": -1,
            "method": "execute"
          },
          "execution_count": 5,
          "user_expressions": {},
          "payload": []
        }
      ],
      "source": "#Create list of models to try a few and test accuracy\n\nmodels = []\nmodels.append(('Classification and Regression Trees', DecisionTreeClassifier()))\nmodels.append(('Logistic Regression', LogisticRegression()))\nmodels.append(('Linear Discriminant Analysis', LinearDiscriminantAnalysis()))\nmodels.append(('K-nearest Neighbors', KNeighborsClassifier()))\nmodels.append(('Naive Bayes', GaussianNB()))\nmodels.append(('Support Vector Machines', SVC()))\n\n#Results \nname = []\nscore = []\n\n# Using kfold to test accuracy \nfor name, model in models:\n    kfold = model_selection.KFold(n_splits=10, random_state=seed)\n    cv_res = model_selection.cross_val_score(model, x_tr, y_tr, cv=kfold, scoring=scoring)\n    print(\"%s: %f (%f)\" % (name, cv_results.mean(), cv_results.std()))"
    },
    {
      "cell_type": "code",
      "execution_count": null,
      "metadata": {
        "_cell_guid": "abda00cb-c1aa-e1e6-4248-7893572bcb75",
        "_uuid": "3266780ea55dce12a8c9934d56120a712bfb70b8"
      },
      "outputs": [],
      "source": [
        ""
      ]
    },
    {
      "cell_type": "code",
      "execution_count": null,
      "metadata": {
        "_cell_guid": "7b869aa3-b951-1179-8253-f9b8143442c7",
        "_uuid": "3b7772692fc15525ac495f8ec47688b7f547a1be"
      },
      "outputs": [],
      "source": [
        ""
      ]
    }
  ],
  "metadata": {
    "_change_revision": 0,
    "_is_fork": false,
    "kernelspec": {
      "display_name": "Python 3",
      "language": "python",
      "name": "python3"
    },
    "language_info": {
      "name": "python",
      "version": "3.6.1",
      "mimetype": "text/x-python",
      "codemirror_mode": {
        "name": "ipython",
        "version": 3
      },
      "pygments_lexer": "ipython3",
      "nbconvert_exporter": "python",
      "file_extension": ".py"
    }
  },
  "nbformat": 4,
  "nbformat_minor": 0
}